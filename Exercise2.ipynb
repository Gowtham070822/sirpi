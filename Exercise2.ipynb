{
  "nbformat": 4,
  "nbformat_minor": 0,
  "metadata": {
    "colab": {
      "provenance": [],
      "authorship_tag": "ABX9TyMeBzeYqy2ZqjiBVxyYJIW0",
      "include_colab_link": true
    },
    "kernelspec": {
      "name": "python3",
      "display_name": "Python 3"
    },
    "language_info": {
      "name": "python"
    }
  },
  "cells": [
    {
      "cell_type": "markdown",
      "metadata": {
        "id": "view-in-github",
        "colab_type": "text"
      },
      "source": [
        "<a href=\"https://colab.research.google.com/github/Gowtham070822/sirpi/blob/main/Exercise2.ipynb\" target=\"_parent\"><img src=\"https://colab.research.google.com/assets/colab-badge.svg\" alt=\"Open In Colab\"/></a>"
      ]
    },
    {
      "cell_type": "markdown",
      "source": [
        "[link text](https://)1.variable and datatype"
      ],
      "metadata": {
        "id": "EPQuUsQ_0aMi"
      }
    },
    {
      "cell_type": "code",
      "execution_count": null,
      "metadata": {
        "colab": {
          "base_uri": "https://localhost:8080/"
        },
        "id": "MC_d_JZe0Q7D",
        "outputId": "de7b395c-cb3c-4396-cac1-632392e14be2"
      },
      "outputs": [
        {
          "output_type": "stream",
          "name": "stdout",
          "text": [
            "after swping: 7 5\n"
          ]
        }
      ],
      "source": [
        "x=5\n",
        "y=7\n",
        "x,y=y,x\n",
        "print(\"after swping:\",x,y)"
      ]
    },
    {
      "cell_type": "markdown",
      "source": [
        "2. Lists - Nested Lists\n",
        "You have a nested list:\n",
        "data = [[1, 2, 3], [4, 5, 6], [7, 8, 9]]\n",
        "a) Extract and print the middle element from the nested list.\n",
        "b) Flatten the list into a single list [1, 2, 3, 4, 5, 6, 7, 8, 9] without using loops."
      ],
      "metadata": {
        "id": "D7dtuPh48Vkv"
      }
    },
    {
      "cell_type": "code",
      "source": [
        "data = [[1, 2, 3], [4, 5, 6], [7, 8, 9]]\n",
        "print(data[1])\n",
        "print(data[1][1])\n",
        "single_list=(data[0]+data[1]+data[2])\n",
        "print(single_list)"
      ],
      "metadata": {
        "colab": {
          "base_uri": "https://localhost:8080/"
        },
        "id": "FkU3m1KK8ZO7",
        "outputId": "b4f2562c-12c4-40b4-ff17-1418dfe6994f"
      },
      "execution_count": null,
      "outputs": [
        {
          "output_type": "stream",
          "name": "stdout",
          "text": [
            "[4, 5, 6]\n",
            "5\n",
            "[1, 2, 3, 4, 5, 6, 7, 8, 9]\n"
          ]
        }
      ]
    },
    {
      "cell_type": "markdown",
      "source": [
        "3. Tuples - Tuple Unpacking\n",
        "Given:\n",
        "values = (100, 200, 300)\n",
        "a) Unpack this tuple into three variables and print them.\n",
        "b) Swap the values without using a temporary variable."
      ],
      "metadata": {
        "id": "XxNjBay5-7n4"
      }
    },
    {
      "cell_type": "code",
      "source": [
        "values = (100, 200, 300)\n",
        "a,b,c=values\n",
        "print(a,b,c)\n",
        "a,b=b,a\n",
        "print(a,b)"
      ],
      "metadata": {
        "colab": {
          "base_uri": "https://localhost:8080/"
        },
        "id": "eysrLjCp--_-",
        "outputId": "964304c7-9876-4708-81c3-6832fb424e72"
      },
      "execution_count": null,
      "outputs": [
        {
          "output_type": "stream",
          "name": "stdout",
          "text": [
            "100 200 300\n",
            "200 100\n"
          ]
        }
      ]
    },
    {
      "cell_type": "markdown",
      "source": [
        "4. Dictionary - Complex Keys\n",
        "Create a dictionary where:\n",
        "Keys are tuples representing (x, y) coordinates.\n",
        "Values are the sum of x and y.\n",
        "Example:\n",
        "{ (1,2): 3, (3,4): 7, (5,6): 11 }\n",
        "Write a function to retrieve the sum for a given coordinate."
      ],
      "metadata": {
        "id": "C7m0EDj8_aGk"
      }
    },
    {
      "cell_type": "code",
      "source": [
        " dict1={ (1,2): 3, (3,4): 7, (5,6): 11 }\n",
        " print(dict1)\n",
        " x=int(input(\"enter the x co-ordinate:\"))\n",
        " y=int(input(\"enter the y co-ordinate:\"))\n",
        "def retreive_sum(a,b):\n",
        "    for key,value in dict1.items():\n",
        "      if(key ==(x,y)):\n",
        "        print(value)\n",
        "retreive_sum(x,y)"
      ],
      "metadata": {
        "colab": {
          "base_uri": "https://localhost:8080/"
        },
        "id": "vTCRPa9z_Zi4",
        "outputId": "0fda6e32-4dff-4dcc-a90c-2fbf6b282184"
      },
      "execution_count": null,
      "outputs": [
        {
          "output_type": "stream",
          "name": "stdout",
          "text": [
            "{(1, 2): 3, (3, 4): 7, (5, 6): 11}\n",
            "enter the x co-ordinate:1\n",
            "enter the y co-ordinate:2\n",
            "3\n"
          ]
        }
      ]
    },
    {
      "cell_type": "markdown",
      "source": [
        "5. Functions - Nested Functions\n",
        "Write a function outer_function(a, b) that:\n",
        "Contains an inner function to calculate a² + b².\n",
        "Returns the result.\n",
        "Call outer_function(3, 4) and print the result."
      ],
      "metadata": {
        "id": "yr3xLI5VAqfA"
      }
    },
    {
      "cell_type": "code",
      "source": [
        "def outer_fuction(a,b):\n",
        "  def inner_function():\n",
        "    return a**2+b**2\n",
        "  return inner_function()\n",
        "print(outer_fuction(3,4))"
      ],
      "metadata": {
        "colab": {
          "base_uri": "https://localhost:8080/"
        },
        "id": "78coGLlJAtsf",
        "outputId": "f8ddbae3-a3d8-427f-cec0-3e2caf69491c"
      },
      "execution_count": null,
      "outputs": [
        {
          "output_type": "stream",
          "name": "stdout",
          "text": [
            "25\n"
          ]
        }
      ]
    },
    {
      "cell_type": "markdown",
      "source": [
        "6. Functions - Lambda & Map\n",
        "You are given a list:\n",
        "numbers = [1, 2, 3, 4, 5]\n",
        "Use a lambda function and map() to generate a list where each number is cubed."
      ],
      "metadata": {
        "id": "NewAyb2EA4VX"
      }
    },
    {
      "cell_type": "code",
      "source": [
        "numbers = [1, 2, 3, 4, 5]\n",
        "print(list(map(lambda x:x**3,numbers)))"
      ],
      "metadata": {
        "colab": {
          "base_uri": "https://localhost:8080/"
        },
        "id": "S-onmQmwA730",
        "outputId": "ced42b72-8905-48bb-b613-657d159bdff8"
      },
      "execution_count": null,
      "outputs": [
        {
          "output_type": "stream",
          "name": "stdout",
          "text": [
            "[1, 8, 27, 64, 125]\n"
          ]
        }
      ]
    },
    {
      "cell_type": "markdown",
      "source": [
        "7. Functions - Recursion\n",
        "Write a recursive function to calculate the sum of digits of a given number.\n",
        "Example:\n",
        "Input: 1234\n",
        "Output: 10  (1+2+3+4)"
      ],
      "metadata": {
        "id": "ZEQgy-s8BBrt"
      }
    },
    {
      "cell_type": "code",
      "source": [
        "def sum(n):\n",
        "  if n ==0:\n",
        "    return 0\n",
        "  return n% 10 + sum(n//10)\n",
        "n=int(input(\"enter the num:\"))\n",
        "print(\"sum of digits:\",sum(n))"
      ],
      "metadata": {
        "colab": {
          "base_uri": "https://localhost:8080/"
        },
        "id": "kzP0AYs0BFhP",
        "outputId": "2afa054f-dca6-493d-d38b-d003c8e87595"
      },
      "execution_count": null,
      "outputs": [
        {
          "output_type": "stream",
          "name": "stdout",
          "text": [
            "enter the num:1234\n",
            "sum of digits: 10\n"
          ]
        }
      ]
    },
    {
      "cell_type": "markdown",
      "source": [],
      "metadata": {
        "id": "VAMbcn_n14iO"
      }
    },
    {
      "cell_type": "markdown",
      "source": [
        "8. List Comprehensions\n",
        "Generate a list of all numbers between 1 and 100 that:\n",
        "Are divisible by 5\n",
        "But not by 3\n",
        "Use list comprehension."
      ],
      "metadata": {
        "id": "ar4TFQq4BoTL"
      }
    },
    {
      "cell_type": "code",
      "source": [
        "list_comp=[x for x in range(101)if x %5==0and x %3!=0]\n",
        "print(list_comp)"
      ],
      "metadata": {
        "colab": {
          "base_uri": "https://localhost:8080/"
        },
        "id": "kfVlMeyJBsMB",
        "outputId": "a6a3fe47-3ffb-42a9-b437-341cb34674e1"
      },
      "execution_count": 7,
      "outputs": [
        {
          "output_type": "stream",
          "name": "stdout",
          "text": [
            "[5, 10, 20, 25, 35, 40, 50, 55, 65, 70, 80, 85, 95, 100]\n"
          ]
        },
        {
          "output_type": "stream",
          "name": "stderr",
          "text": [
            "<>:1: SyntaxWarning: invalid decimal literal\n",
            "<>:1: SyntaxWarning: invalid decimal literal\n",
            "<ipython-input-7-1da68997533e>:1: SyntaxWarning: invalid decimal literal\n",
            "  list_comp=[x for x in range(101)if x %5==0and x %3!=0]\n"
          ]
        }
      ]
    },
    {
      "cell_type": "markdown",
      "source": [
        "9. Dictionary - Sorting by Values\n",
        "Given:\n",
        "scores = {\"Alice\": 90, \"Bob\": 85, \"Eve\": 92}\n",
        "Sort this dictionary by values in descending order and print the result."
      ],
      "metadata": {
        "id": "QCBVr0XfCEf3"
      }
    },
    {
      "cell_type": "code",
      "source": [
        "scores = {\"Alice\": 90, \"Bob\": 85, \"Eve\": 92}\n",
        "desc_order_sc=dict(sorted(scores.items(),key=lambda x:x[1],reverse=True))\n",
        "print(desc_order_sc)"
      ],
      "metadata": {
        "colab": {
          "base_uri": "https://localhost:8080/"
        },
        "id": "oEtPMq7kCJZT",
        "outputId": "806f0243-ab1c-4159-f996-9328db84150a"
      },
      "execution_count": null,
      "outputs": [
        {
          "output_type": "stream",
          "name": "stdout",
          "text": [
            "{'Eve': 92, 'Alice': 90, 'Bob': 85}\n"
          ]
        }
      ]
    },
    {
      "cell_type": "markdown",
      "source": [
        "10. Sets - Unique Characters\n",
        "Write a Python function that takes a string as input and returns:\n",
        "A set of unique characters in the string.\n",
        "The number of unique characters.\n",
        "Example:\n",
        "Input: \"hello\"\n",
        "Output: {'h', 'e', 'l', 'o'}, 4"
      ],
      "metadata": {
        "id": "3aPOMAZaCsk3"
      }
    },
    {
      "cell_type": "code",
      "source": [
        "str1=\"hello\"\n",
        "str2=set(str1)\n",
        "print(str2)"
      ],
      "metadata": {
        "colab": {
          "base_uri": "https://localhost:8080/"
        },
        "id": "4tedBuXbCwQh",
        "outputId": "dd0d8a9c-5721-466c-f84e-74f48cc8d5d0"
      },
      "execution_count": null,
      "outputs": [
        {
          "output_type": "stream",
          "name": "stdout",
          "text": [
            "{'h', 'o', 'l', 'e'}\n"
          ]
        }
      ]
    },
    {
      "cell_type": "markdown",
      "source": [
        "11. Tuples - Finding Common Elements\n",
        "Given two tuples:\n",
        "t1 = (1, 2, 3, 4, 5)\n",
        "t2 = (4, 5, 6, 7, 8)\n",
        "Find and print the common elements."
      ],
      "metadata": {
        "id": "UpWSPit7C64M"
      }
    },
    {
      "cell_type": "code",
      "source": [
        "t1 = (1, 2, 3, 4, 5)\n",
        "t2 = (4, 5, 6, 7, 8)\n",
        "common=tuple(set(t1)&set(t2))\n",
        "print(common)"
      ],
      "metadata": {
        "colab": {
          "base_uri": "https://localhost:8080/"
        },
        "id": "_q6M8qmzC-U4",
        "outputId": "163a7d7a-56e2-4b6f-eb08-450c8a54ccce"
      },
      "execution_count": null,
      "outputs": [
        {
          "output_type": "stream",
          "name": "stdout",
          "text": [
            "(4, 5)\n"
          ]
        }
      ]
    },
    {
      "cell_type": "markdown",
      "source": [
        "12. Dictionary - Reverse Key-Value Mapping\n",
        "Given a dictionary:\n",
        "data = {\"A\": 1, \"B\": 2, \"C\": 3}\n",
        "Write a program to swap keys and values:\n",
        "Output: {1: \"A\", 2: \"B\", 3: \"C\"}"
      ],
      "metadata": {
        "id": "FeIOolTrEce2"
      }
    },
    {
      "cell_type": "code",
      "source": [
        "data = {\"A\": 1, \"B\": 2, \"C\": 3}\n",
        "swapped_data={j:i for i,j in data.items()}\n",
        "print(swapped_data)"
      ],
      "metadata": {
        "colab": {
          "base_uri": "https://localhost:8080/"
        },
        "id": "Y9pFRSfHEgAX",
        "outputId": "7818fbbc-3886-4882-8176-050ec75134a3"
      },
      "execution_count": null,
      "outputs": [
        {
          "output_type": "stream",
          "name": "stdout",
          "text": [
            "{1: 'A', 2: 'B', 3: 'C'}\n"
          ]
        }
      ]
    },
    {
      "cell_type": "markdown",
      "source": [
        "13. Functions - Multiple Return Values\n",
        "Write a function that takes two numbers as input and returns:\n",
        ".Their sum\n",
        ".Their difference\n",
        ".Their product\n",
        ".Their quotient\n",
        "Print all four results."
      ],
      "metadata": {
        "id": "OgSLnVYTF067"
      }
    },
    {
      "cell_type": "code",
      "source": [
        "def calculator(a,b):\n",
        "  print(\"the sum is:\",a+b,\"\\n the diff is:\",a-b,\"\\n the product is\",a*b,\"\\n he quotient is:\",a//b)\n",
        "calculator(2,3)"
      ],
      "metadata": {
        "colab": {
          "base_uri": "https://localhost:8080/"
        },
        "id": "a5CNiTv4F32e",
        "outputId": "d71bc2dc-c802-4152-b55b-3ab8ae57ec45"
      },
      "execution_count": null,
      "outputs": [
        {
          "output_type": "stream",
          "name": "stdout",
          "text": [
            "the sum is: 5 \n",
            " the diff is: -1 \n",
            " the product is 6 \n",
            " he quotient is: 0\n"
          ]
        }
      ]
    },
    {
      "cell_type": "markdown",
      "source": [
        "14. List - Finding Second Largest Number\n",
        "Write a function to find the second largest number in a given list without using sort().\n",
        "Example:\n",
        "Input: [10, 20, 4, 45, 99]\n",
        "Output: 45"
      ],
      "metadata": {
        "id": "bzxoz2-5Go9B"
      }
    },
    {
      "cell_type": "code",
      "source": [
        "list1=[10,20,4,45,99]\n",
        "list1.sort(reverse=True)\n",
        "print(list1[1])"
      ],
      "metadata": {
        "colab": {
          "base_uri": "https://localhost:8080/"
        },
        "id": "iF3euwAzGsKo",
        "outputId": "63dd6fca-ba07-4ab7-90d6-931701e0fc2c"
      },
      "execution_count": null,
      "outputs": [
        {
          "output_type": "stream",
          "name": "stdout",
          "text": [
            "45\n"
          ]
        }
      ]
    },
    {
      "cell_type": "markdown",
      "source": [
        "15. List - Pair Sum Problem\n",
        "Given a list of numbers and a target sum, find all pairs in the list that add up to the target.\n",
        "Example:\n",
        "Input: [2, 4, 3, 7, 1, 9], Target: 10\n",
        "Output: [(3, 7), (1, 9)]"
      ],
      "metadata": {
        "id": "HpiU7R9ZG-80"
      }
    },
    {
      "cell_type": "code",
      "source": [
        "l=[2, 4, 3, 7, 1, 9]\n",
        "tar =10\n",
        "ans=[]\n",
        "seen=set()\n",
        "\n",
        "for n in l:\n",
        "  second =tar-n\n",
        "  if second in seen:\n",
        "      ans.append((n,second))\n",
        "  seen.add(n)\n",
        "print(ans)"
      ],
      "metadata": {
        "colab": {
          "base_uri": "https://localhost:8080/"
        },
        "id": "NzVYGYmhHCvJ",
        "outputId": "3091ca82-d66b-4436-d46b-f8e7f397a5ac"
      },
      "execution_count": null,
      "outputs": [
        {
          "output_type": "stream",
          "name": "stdout",
          "text": [
            "[(7, 3), (9, 1)]\n"
          ]
        }
      ]
    },
    {
      "cell_type": "markdown",
      "source": [
        "16. Pandas - Filtering DataFrame\n",
        "You are given the following Pandas DataFrame:\n",
        "import pandas as pd\n",
        "df = pd.DataFrame({\n",
        "    \"Name\": [\"Alice\", \"Bob\", \"Charlie\", \"David\"],\n",
        "    \"Age\": [24, 27, 22, 32],\n",
        "    \"Score\": [85, 90, 78, 88]\n",
        "})\n",
        "Write a one-liner to filter and display only rows where Age is greater than 25."
      ],
      "metadata": {
        "id": "870WCYVQHwyK"
      }
    },
    {
      "cell_type": "code",
      "source": [
        "import pandas as pd\n",
        "df = pd.DataFrame({ \"Name\": [\"Alice\", \"Bob\", \"Charlie\", \"David\"],\n",
        "                   \"Age\": [24, 27, 22, 32], \"Score\": [85, 90, 78, 88]\n",
        "})\n",
        "df1=df[df[\"Age\"]>=25]\n",
        "display(df1)"
      ],
      "metadata": {
        "colab": {
          "base_uri": "https://localhost:8080/",
          "height": 125
        },
        "id": "mAU8CUlAH18S",
        "outputId": "39626121-147d-4b46-fccb-9a955a6bec57"
      },
      "execution_count": null,
      "outputs": [
        {
          "output_type": "display_data",
          "data": {
            "text/plain": [
              "    Name  Age  Score\n",
              "1    Bob   27     90\n",
              "3  David   32     88"
            ],
            "text/html": [
              "\n",
              "  <div id=\"df-ea3f59ba-43b3-4bf4-9b83-da9539cd9ade\" class=\"colab-df-container\">\n",
              "    <div>\n",
              "<style scoped>\n",
              "    .dataframe tbody tr th:only-of-type {\n",
              "        vertical-align: middle;\n",
              "    }\n",
              "\n",
              "    .dataframe tbody tr th {\n",
              "        vertical-align: top;\n",
              "    }\n",
              "\n",
              "    .dataframe thead th {\n",
              "        text-align: right;\n",
              "    }\n",
              "</style>\n",
              "<table border=\"1\" class=\"dataframe\">\n",
              "  <thead>\n",
              "    <tr style=\"text-align: right;\">\n",
              "      <th></th>\n",
              "      <th>Name</th>\n",
              "      <th>Age</th>\n",
              "      <th>Score</th>\n",
              "    </tr>\n",
              "  </thead>\n",
              "  <tbody>\n",
              "    <tr>\n",
              "      <th>1</th>\n",
              "      <td>Bob</td>\n",
              "      <td>27</td>\n",
              "      <td>90</td>\n",
              "    </tr>\n",
              "    <tr>\n",
              "      <th>3</th>\n",
              "      <td>David</td>\n",
              "      <td>32</td>\n",
              "      <td>88</td>\n",
              "    </tr>\n",
              "  </tbody>\n",
              "</table>\n",
              "</div>\n",
              "    <div class=\"colab-df-buttons\">\n",
              "\n",
              "  <div class=\"colab-df-container\">\n",
              "    <button class=\"colab-df-convert\" onclick=\"convertToInteractive('df-ea3f59ba-43b3-4bf4-9b83-da9539cd9ade')\"\n",
              "            title=\"Convert this dataframe to an interactive table.\"\n",
              "            style=\"display:none;\">\n",
              "\n",
              "  <svg xmlns=\"http://www.w3.org/2000/svg\" height=\"24px\" viewBox=\"0 -960 960 960\">\n",
              "    <path d=\"M120-120v-720h720v720H120Zm60-500h600v-160H180v160Zm220 220h160v-160H400v160Zm0 220h160v-160H400v160ZM180-400h160v-160H180v160Zm440 0h160v-160H620v160ZM180-180h160v-160H180v160Zm440 0h160v-160H620v160Z\"/>\n",
              "  </svg>\n",
              "    </button>\n",
              "\n",
              "  <style>\n",
              "    .colab-df-container {\n",
              "      display:flex;\n",
              "      gap: 12px;\n",
              "    }\n",
              "\n",
              "    .colab-df-convert {\n",
              "      background-color: #E8F0FE;\n",
              "      border: none;\n",
              "      border-radius: 50%;\n",
              "      cursor: pointer;\n",
              "      display: none;\n",
              "      fill: #1967D2;\n",
              "      height: 32px;\n",
              "      padding: 0 0 0 0;\n",
              "      width: 32px;\n",
              "    }\n",
              "\n",
              "    .colab-df-convert:hover {\n",
              "      background-color: #E2EBFA;\n",
              "      box-shadow: 0px 1px 2px rgba(60, 64, 67, 0.3), 0px 1px 3px 1px rgba(60, 64, 67, 0.15);\n",
              "      fill: #174EA6;\n",
              "    }\n",
              "\n",
              "    .colab-df-buttons div {\n",
              "      margin-bottom: 4px;\n",
              "    }\n",
              "\n",
              "    [theme=dark] .colab-df-convert {\n",
              "      background-color: #3B4455;\n",
              "      fill: #D2E3FC;\n",
              "    }\n",
              "\n",
              "    [theme=dark] .colab-df-convert:hover {\n",
              "      background-color: #434B5C;\n",
              "      box-shadow: 0px 1px 3px 1px rgba(0, 0, 0, 0.15);\n",
              "      filter: drop-shadow(0px 1px 2px rgba(0, 0, 0, 0.3));\n",
              "      fill: #FFFFFF;\n",
              "    }\n",
              "  </style>\n",
              "\n",
              "    <script>\n",
              "      const buttonEl =\n",
              "        document.querySelector('#df-ea3f59ba-43b3-4bf4-9b83-da9539cd9ade button.colab-df-convert');\n",
              "      buttonEl.style.display =\n",
              "        google.colab.kernel.accessAllowed ? 'block' : 'none';\n",
              "\n",
              "      async function convertToInteractive(key) {\n",
              "        const element = document.querySelector('#df-ea3f59ba-43b3-4bf4-9b83-da9539cd9ade');\n",
              "        const dataTable =\n",
              "          await google.colab.kernel.invokeFunction('convertToInteractive',\n",
              "                                                    [key], {});\n",
              "        if (!dataTable) return;\n",
              "\n",
              "        const docLinkHtml = 'Like what you see? Visit the ' +\n",
              "          '<a target=\"_blank\" href=https://colab.research.google.com/notebooks/data_table.ipynb>data table notebook</a>'\n",
              "          + ' to learn more about interactive tables.';\n",
              "        element.innerHTML = '';\n",
              "        dataTable['output_type'] = 'display_data';\n",
              "        await google.colab.output.renderOutput(dataTable, element);\n",
              "        const docLink = document.createElement('div');\n",
              "        docLink.innerHTML = docLinkHtml;\n",
              "        element.appendChild(docLink);\n",
              "      }\n",
              "    </script>\n",
              "  </div>\n",
              "\n",
              "\n",
              "<div id=\"df-6c47090a-ec40-4e8e-b7aa-6bab0dacc626\">\n",
              "  <button class=\"colab-df-quickchart\" onclick=\"quickchart('df-6c47090a-ec40-4e8e-b7aa-6bab0dacc626')\"\n",
              "            title=\"Suggest charts\"\n",
              "            style=\"display:none;\">\n",
              "\n",
              "<svg xmlns=\"http://www.w3.org/2000/svg\" height=\"24px\"viewBox=\"0 0 24 24\"\n",
              "     width=\"24px\">\n",
              "    <g>\n",
              "        <path d=\"M19 3H5c-1.1 0-2 .9-2 2v14c0 1.1.9 2 2 2h14c1.1 0 2-.9 2-2V5c0-1.1-.9-2-2-2zM9 17H7v-7h2v7zm4 0h-2V7h2v10zm4 0h-2v-4h2v4z\"/>\n",
              "    </g>\n",
              "</svg>\n",
              "  </button>\n",
              "\n",
              "<style>\n",
              "  .colab-df-quickchart {\n",
              "      --bg-color: #E8F0FE;\n",
              "      --fill-color: #1967D2;\n",
              "      --hover-bg-color: #E2EBFA;\n",
              "      --hover-fill-color: #174EA6;\n",
              "      --disabled-fill-color: #AAA;\n",
              "      --disabled-bg-color: #DDD;\n",
              "  }\n",
              "\n",
              "  [theme=dark] .colab-df-quickchart {\n",
              "      --bg-color: #3B4455;\n",
              "      --fill-color: #D2E3FC;\n",
              "      --hover-bg-color: #434B5C;\n",
              "      --hover-fill-color: #FFFFFF;\n",
              "      --disabled-bg-color: #3B4455;\n",
              "      --disabled-fill-color: #666;\n",
              "  }\n",
              "\n",
              "  .colab-df-quickchart {\n",
              "    background-color: var(--bg-color);\n",
              "    border: none;\n",
              "    border-radius: 50%;\n",
              "    cursor: pointer;\n",
              "    display: none;\n",
              "    fill: var(--fill-color);\n",
              "    height: 32px;\n",
              "    padding: 0;\n",
              "    width: 32px;\n",
              "  }\n",
              "\n",
              "  .colab-df-quickchart:hover {\n",
              "    background-color: var(--hover-bg-color);\n",
              "    box-shadow: 0 1px 2px rgba(60, 64, 67, 0.3), 0 1px 3px 1px rgba(60, 64, 67, 0.15);\n",
              "    fill: var(--button-hover-fill-color);\n",
              "  }\n",
              "\n",
              "  .colab-df-quickchart-complete:disabled,\n",
              "  .colab-df-quickchart-complete:disabled:hover {\n",
              "    background-color: var(--disabled-bg-color);\n",
              "    fill: var(--disabled-fill-color);\n",
              "    box-shadow: none;\n",
              "  }\n",
              "\n",
              "  .colab-df-spinner {\n",
              "    border: 2px solid var(--fill-color);\n",
              "    border-color: transparent;\n",
              "    border-bottom-color: var(--fill-color);\n",
              "    animation:\n",
              "      spin 1s steps(1) infinite;\n",
              "  }\n",
              "\n",
              "  @keyframes spin {\n",
              "    0% {\n",
              "      border-color: transparent;\n",
              "      border-bottom-color: var(--fill-color);\n",
              "      border-left-color: var(--fill-color);\n",
              "    }\n",
              "    20% {\n",
              "      border-color: transparent;\n",
              "      border-left-color: var(--fill-color);\n",
              "      border-top-color: var(--fill-color);\n",
              "    }\n",
              "    30% {\n",
              "      border-color: transparent;\n",
              "      border-left-color: var(--fill-color);\n",
              "      border-top-color: var(--fill-color);\n",
              "      border-right-color: var(--fill-color);\n",
              "    }\n",
              "    40% {\n",
              "      border-color: transparent;\n",
              "      border-right-color: var(--fill-color);\n",
              "      border-top-color: var(--fill-color);\n",
              "    }\n",
              "    60% {\n",
              "      border-color: transparent;\n",
              "      border-right-color: var(--fill-color);\n",
              "    }\n",
              "    80% {\n",
              "      border-color: transparent;\n",
              "      border-right-color: var(--fill-color);\n",
              "      border-bottom-color: var(--fill-color);\n",
              "    }\n",
              "    90% {\n",
              "      border-color: transparent;\n",
              "      border-bottom-color: var(--fill-color);\n",
              "    }\n",
              "  }\n",
              "</style>\n",
              "\n",
              "  <script>\n",
              "    async function quickchart(key) {\n",
              "      const quickchartButtonEl =\n",
              "        document.querySelector('#' + key + ' button');\n",
              "      quickchartButtonEl.disabled = true;  // To prevent multiple clicks.\n",
              "      quickchartButtonEl.classList.add('colab-df-spinner');\n",
              "      try {\n",
              "        const charts = await google.colab.kernel.invokeFunction(\n",
              "            'suggestCharts', [key], {});\n",
              "      } catch (error) {\n",
              "        console.error('Error during call to suggestCharts:', error);\n",
              "      }\n",
              "      quickchartButtonEl.classList.remove('colab-df-spinner');\n",
              "      quickchartButtonEl.classList.add('colab-df-quickchart-complete');\n",
              "    }\n",
              "    (() => {\n",
              "      let quickchartButtonEl =\n",
              "        document.querySelector('#df-6c47090a-ec40-4e8e-b7aa-6bab0dacc626 button');\n",
              "      quickchartButtonEl.style.display =\n",
              "        google.colab.kernel.accessAllowed ? 'block' : 'none';\n",
              "    })();\n",
              "  </script>\n",
              "</div>\n",
              "\n",
              "  <div id=\"id_3960f151-95ea-4f20-946f-e7febb02452c\">\n",
              "    <style>\n",
              "      .colab-df-generate {\n",
              "        background-color: #E8F0FE;\n",
              "        border: none;\n",
              "        border-radius: 50%;\n",
              "        cursor: pointer;\n",
              "        display: none;\n",
              "        fill: #1967D2;\n",
              "        height: 32px;\n",
              "        padding: 0 0 0 0;\n",
              "        width: 32px;\n",
              "      }\n",
              "\n",
              "      .colab-df-generate:hover {\n",
              "        background-color: #E2EBFA;\n",
              "        box-shadow: 0px 1px 2px rgba(60, 64, 67, 0.3), 0px 1px 3px 1px rgba(60, 64, 67, 0.15);\n",
              "        fill: #174EA6;\n",
              "      }\n",
              "\n",
              "      [theme=dark] .colab-df-generate {\n",
              "        background-color: #3B4455;\n",
              "        fill: #D2E3FC;\n",
              "      }\n",
              "\n",
              "      [theme=dark] .colab-df-generate:hover {\n",
              "        background-color: #434B5C;\n",
              "        box-shadow: 0px 1px 3px 1px rgba(0, 0, 0, 0.15);\n",
              "        filter: drop-shadow(0px 1px 2px rgba(0, 0, 0, 0.3));\n",
              "        fill: #FFFFFF;\n",
              "      }\n",
              "    </style>\n",
              "    <button class=\"colab-df-generate\" onclick=\"generateWithVariable('df1')\"\n",
              "            title=\"Generate code using this dataframe.\"\n",
              "            style=\"display:none;\">\n",
              "\n",
              "  <svg xmlns=\"http://www.w3.org/2000/svg\" height=\"24px\"viewBox=\"0 0 24 24\"\n",
              "       width=\"24px\">\n",
              "    <path d=\"M7,19H8.4L18.45,9,17,7.55,7,17.6ZM5,21V16.75L18.45,3.32a2,2,0,0,1,2.83,0l1.4,1.43a1.91,1.91,0,0,1,.58,1.4,1.91,1.91,0,0,1-.58,1.4L9.25,21ZM18.45,9,17,7.55Zm-12,3A5.31,5.31,0,0,0,4.9,8.1,5.31,5.31,0,0,0,1,6.5,5.31,5.31,0,0,0,4.9,4.9,5.31,5.31,0,0,0,6.5,1,5.31,5.31,0,0,0,8.1,4.9,5.31,5.31,0,0,0,12,6.5,5.46,5.46,0,0,0,6.5,12Z\"/>\n",
              "  </svg>\n",
              "    </button>\n",
              "    <script>\n",
              "      (() => {\n",
              "      const buttonEl =\n",
              "        document.querySelector('#id_3960f151-95ea-4f20-946f-e7febb02452c button.colab-df-generate');\n",
              "      buttonEl.style.display =\n",
              "        google.colab.kernel.accessAllowed ? 'block' : 'none';\n",
              "\n",
              "      buttonEl.onclick = () => {\n",
              "        google.colab.notebook.generateWithVariable('df1');\n",
              "      }\n",
              "      })();\n",
              "    </script>\n",
              "  </div>\n",
              "\n",
              "    </div>\n",
              "  </div>\n"
            ],
            "application/vnd.google.colaboratory.intrinsic+json": {
              "type": "dataframe",
              "variable_name": "df1",
              "summary": "{\n  \"name\": \"df1\",\n  \"rows\": 2,\n  \"fields\": [\n    {\n      \"column\": \"Name\",\n      \"properties\": {\n        \"dtype\": \"string\",\n        \"num_unique_values\": 2,\n        \"samples\": [\n          \"David\",\n          \"Bob\"\n        ],\n        \"semantic_type\": \"\",\n        \"description\": \"\"\n      }\n    },\n    {\n      \"column\": \"Age\",\n      \"properties\": {\n        \"dtype\": \"number\",\n        \"std\": 3,\n        \"min\": 27,\n        \"max\": 32,\n        \"num_unique_values\": 2,\n        \"samples\": [\n          32,\n          27\n        ],\n        \"semantic_type\": \"\",\n        \"description\": \"\"\n      }\n    },\n    {\n      \"column\": \"Score\",\n      \"properties\": {\n        \"dtype\": \"number\",\n        \"std\": 1,\n        \"min\": 88,\n        \"max\": 90,\n        \"num_unique_values\": 2,\n        \"samples\": [\n          88,\n          90\n        ],\n        \"semantic_type\": \"\",\n        \"description\": \"\"\n      }\n    }\n  ]\n}"
            }
          },
          "metadata": {}
        }
      ]
    },
    {
      "cell_type": "markdown",
      "source": [
        "17. Pandas - Group By Operation\n",
        "You have the following DataFrame:\n",
        "df = pd.DataFrame({\n",
        "    \"Department\": [\"IT\", \"HR\", \"IT\", \"Finance\", \"HR\"],\n",
        "    \"Salary\": [70000, 50000, 80000, 60000, 52000]\n",
        "})\n",
        "Write a Pandas command to calculate the average salary per department."
      ],
      "metadata": {
        "id": "iYLq2Bh2IZij"
      }
    },
    {
      "cell_type": "code",
      "source": [
        "df = pd.DataFrame({ \"Department\": [\"IT\", \"HR\", \"IT\", \"Finance\", \"HR\"],\n",
        "                    \"Salary\": [70000, 50000, 80000, 60000, 52000]\n",
        "})\n",
        "df[\"Salary\"].mean()"
      ],
      "metadata": {
        "colab": {
          "base_uri": "https://localhost:8080/"
        },
        "id": "U0cVcVl3Ifct",
        "outputId": "ab68b599-7d25-4e6b-f804-50504a0acd83"
      },
      "execution_count": null,
      "outputs": [
        {
          "output_type": "execute_result",
          "data": {
            "text/plain": [
              "np.float64(62400.0)"
            ]
          },
          "metadata": {},
          "execution_count": 25
        }
      ]
    },
    {
      "cell_type": "markdown",
      "source": [
        "18. NumPy - Create a 5x5 Matrix\n",
        "Write a program to create a 5x5 NumPy matrix where:\n",
        "The diagonal elements are 1\n",
        "All other elements are 0\n",
        "Example:\n",
        "Output:\n",
        "[[1 0 0 0 0]\n",
        " [0 1 0 0 0]\n",
        " [0 0 1 0 0]\n",
        " [0 0 0 1 0]\n",
        " [0 0 0 0 1]]"
      ],
      "metadata": {
        "id": "_NXlxvEYIuHj"
      }
    },
    {
      "cell_type": "code",
      "source": [
        "import numpy as np\n",
        "array=np.zeros((5,5,),int)\n",
        "np.fill_diagonal(array,1)\n",
        "print(array)\n"
      ],
      "metadata": {
        "colab": {
          "base_uri": "https://localhost:8080/"
        },
        "id": "Yhl57uGKIxrx",
        "outputId": "2078d80e-aa4e-456f-a0c7-40feb93546ea"
      },
      "execution_count": null,
      "outputs": [
        {
          "output_type": "stream",
          "name": "stdout",
          "text": [
            "[[1 0 0 0 0]\n",
            " [0 1 0 0 0]\n",
            " [0 0 1 0 0]\n",
            " [0 0 0 1 0]\n",
            " [0 0 0 0 1]]\n"
          ]
        }
      ]
    },
    {
      "cell_type": "markdown",
      "source": [
        "19. NumPy - Element-wise Operations\n",
        "Given two NumPy arrays:\n",
        "import numpy as np\n",
        "a = np.array([1, 2, 3, 4])\n",
        "b = np.array([10, 20, 30, 40])\n",
        "Perform element-wise:\n",
        "*.Addition\n",
        "*.Multiplication\n",
        "*.Power (a^b)\n",
        "Print the results."
      ],
      "metadata": {
        "id": "6m6b7IksJEmf"
      }
    },
    {
      "cell_type": "code",
      "source": [
        "import numpy as np\n",
        "a = np.array([1, 2, 3, 4])\n",
        "b = np.array([10, 20, 30, 40])\n",
        "\n",
        "add_ans=np.add(a,b)\n",
        "mul_ans=np.multiply(a,b)\n",
        "pow_ans=np.power(a,b)\n",
        "print(\"add:\",add_ans,\"\\n mulitiplication:\",mul_ans,\"/n power:\",pow_ans)"
      ],
      "metadata": {
        "colab": {
          "base_uri": "https://localhost:8080/"
        },
        "id": "BruOMwP-JIIW",
        "outputId": "046197d0-c190-4cb5-bbd7-20ad43c25ca4"
      },
      "execution_count": 5,
      "outputs": [
        {
          "output_type": "stream",
          "name": "stdout",
          "text": [
            "add: [11 22 33 44] \n",
            " mulitiplication: [ 10  40  90 160] /n power: [              1         1048576 205891132094649               0]\n"
          ]
        }
      ]
    },
    {
      "cell_type": "markdown",
      "source": [
        "20. NumPy - Find Index of Maximum Value\n",
        "Given:\n",
        "arr = np.array([10, 25, 39, 50, 19])\n",
        "Write a one-liner to find the index of the maximum value."
      ],
      "metadata": {
        "id": "fvVZbRoaKByf"
      }
    },
    {
      "cell_type": "code",
      "source": [
        "arr=np.array([10,25,39,50,29])\n",
        "print(arr.argmax())"
      ],
      "metadata": {
        "colab": {
          "base_uri": "https://localhost:8080/"
        },
        "id": "7ykbdMmDKFvu",
        "outputId": "bbd02430-0653-4b05-e739-2570f038405d"
      },
      "execution_count": 6,
      "outputs": [
        {
          "output_type": "stream",
          "name": "stdout",
          "text": [
            "3\n"
          ]
        }
      ]
    }
  ]
}