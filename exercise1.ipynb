{
  "cells": [
    {
      "cell_type": "markdown",
      "metadata": {
        "id": "view-in-github",
        "colab_type": "text"
      },
      "source": [
        "<a href=\"https://colab.research.google.com/github/Gowtham070822/sirpi/blob/main/exercise1.ipynb\" target=\"_parent\"><img src=\"https://colab.research.google.com/assets/colab-badge.svg\" alt=\"Open In Colab\"/></a>"
      ]
    },
    {
      "cell_type": "markdown",
      "id": "78101ae0-0582-4da3-9c6c-9e22f73737ca",
      "metadata": {
        "id": "78101ae0-0582-4da3-9c6c-9e22f73737ca"
      },
      "source": [
        "1. Types of Variables\n",
        "Question:\n",
        "Write a Python program that defines three types of variables:\n",
        "A string variable to store your name.\n",
        "An integer variable to store your age.\n",
        "A float variable to store your height in meters.\n",
        "Print these variables along with their types using the type() function."
      ]
    },
    {
      "cell_type": "code",
      "execution_count": null,
      "id": "5dee3be1-ee67-4e19-89b2-9e2693abd694",
      "metadata": {
        "colab": {
          "base_uri": "https://localhost:8080/"
        },
        "id": "5dee3be1-ee67-4e19-89b2-9e2693abd694",
        "outputId": "f81b288d-b9ae-498f-b954-ab3368cfdbbf"
      },
      "outputs": [
        {
          "output_type": "stream",
          "name": "stdout",
          "text": [
            "gowtham <class 'str'>\n",
            "22 <class 'int'>\n",
            "5.6 <class 'float'>\n"
          ]
        }
      ],
      "source": [
        "name=\"gowtham\"\n",
        "age=22\n",
        "height=5.6\n",
        "print(name,type(name))\n",
        "print(age,type(age))\n",
        "print(height,type(height))"
      ]
    },
    {
      "cell_type": "markdown",
      "id": "ba741d9c-c23c-4215-aacf-43852f0ad95b",
      "metadata": {
        "id": "ba741d9c-c23c-4215-aacf-43852f0ad95b"
      },
      "source": [
        "2. Lists\n",
        "Question:\n",
        "Create a list of five fruits ([\"apple\", \"banana\", \"cherry\", \"date\", \"elderberry\"]):\n",
        "a) Print the first and last fruit from the list.\n",
        "b) Add a new fruit to the end of the list.\n",
        "c) Remove the second fruit from the list.\n",
        "d) Sort the list in alphabetical order and print it."
      ]
    },
    {
      "cell_type": "code",
      "execution_count": null,
      "id": "4dd8748d-bdb8-4d45-8d8e-e89875dfe51b",
      "metadata": {
        "id": "4dd8748d-bdb8-4d45-8d8e-e89875dfe51b",
        "outputId": "0b7664fb-c739-402b-b947-9b2d17cb52f5"
      },
      "outputs": [
        {
          "name": "stdout",
          "output_type": "stream",
          "text": [
            "apple elderberry\n"
          ]
        }
      ],
      "source": [
        "fruits=[\"apple\", \"banana\", \"cherry\", \"date\", \"elderberry\"]\n",
        "print(fruits[0],fruits[-1])"
      ]
    },
    {
      "cell_type": "code",
      "execution_count": null,
      "id": "295a8e27-d55f-49de-83fb-782fcd56122a",
      "metadata": {
        "id": "295a8e27-d55f-49de-83fb-782fcd56122a",
        "outputId": "cda2db9c-17f0-4e0e-8344-07cd437088a1"
      },
      "outputs": [
        {
          "name": "stdout",
          "output_type": "stream",
          "text": [
            "['apple', 'banana', 'cherry', 'date', 'elderberry', 'orange']\n"
          ]
        }
      ],
      "source": [
        "fruits.append(\"orange\")\n",
        "print(fruits)"
      ]
    },
    {
      "cell_type": "code",
      "execution_count": null,
      "id": "e9668809-13c7-464c-8176-0af9d2337742",
      "metadata": {
        "id": "e9668809-13c7-464c-8176-0af9d2337742",
        "outputId": "49478c9f-4a83-475e-8b30-5e4af5b0d377"
      },
      "outputs": [
        {
          "name": "stdout",
          "output_type": "stream",
          "text": [
            "['apple', 'date', 'elderberry', 'orange']\n"
          ]
        }
      ],
      "source": [
        "fruits.pop(1)\n",
        "print(fruits)"
      ]
    },
    {
      "cell_type": "code",
      "execution_count": null,
      "id": "0fbca0f8-2181-496e-8bed-22162218e2de",
      "metadata": {
        "id": "0fbca0f8-2181-496e-8bed-22162218e2de",
        "outputId": "5145d7e2-78f2-4f29-fc05-fbc8543d22c5"
      },
      "outputs": [
        {
          "name": "stdout",
          "output_type": "stream",
          "text": [
            "['apple', 'date', 'elderberry', 'orange']\n"
          ]
        }
      ],
      "source": [
        "fruits.sort()\n",
        "print(fruits)"
      ]
    },
    {
      "cell_type": "markdown",
      "id": "74a2dd53-8c15-4575-9f5a-829754b5e2db",
      "metadata": {
        "id": "74a2dd53-8c15-4575-9f5a-829754b5e2db"
      },
      "source": [
        "3. Tuples\n",
        "Question:\n",
        "Create a tuple to store the names of three programming languages (\"Python\", \"Java\", \"C++\"):\n",
        "a) Access the second language in the tuple.\n",
        "b) Try to replace the second language with \"JavaScript\". What happens?\n",
        "c) Convert the tuple to a list, make the modification, and convert it back to a tuple."
      ]
    },
    {
      "cell_type": "code",
      "execution_count": null,
      "id": "1ea786a0-0789-4ed5-9652-345548498192",
      "metadata": {
        "colab": {
          "base_uri": "https://localhost:8080/"
        },
        "id": "1ea786a0-0789-4ed5-9652-345548498192",
        "outputId": "71a1b2c1-e5bf-4f18-e867-412be3774494"
      },
      "outputs": [
        {
          "output_type": "stream",
          "name": "stdout",
          "text": [
            "Java\n"
          ]
        }
      ],
      "source": [
        "languages=(\"Python\", \"Java\", \"C++\")\n",
        "print(languages[1])\n"
      ]
    },
    {
      "cell_type": "code",
      "execution_count": null,
      "id": "e064ae80-195e-4f58-8860-d1e2a1df5434",
      "metadata": {
        "colab": {
          "base_uri": "https://localhost:8080/"
        },
        "id": "e064ae80-195e-4f58-8860-d1e2a1df5434",
        "outputId": "4c4e70ef-427f-4e76-a1ef-e1ace86cbc4d"
      },
      "outputs": [
        {
          "output_type": "stream",
          "name": "stdout",
          "text": [
            "('Python', 'Java', 'C++')\n",
            "('Python', 'javascript', 'C++')\n"
          ]
        }
      ],
      "source": [
        "print(languages)\n",
        "lang=list(languages)\n",
        "lang[1]=\"javascript\"\n",
        "languages=tuple(lang)\n",
        "print(languages)"
      ]
    },
    {
      "cell_type": "markdown",
      "source": [
        "4. Data Dictionary - Basics\n",
        "Question:\n",
        "Create a dictionary with the following student details:\n",
        "name: \"John\"\n",
        "age: 18\n",
        "grade: \"A\"\n",
        "a) Access and print the value of grade.\n",
        "b) Add a new key-value pair for hobby with the value \"reading\".\n",
        "c) Delete the age key from the dictionary."
      ],
      "metadata": {
        "id": "UrWl_2bdNYYK"
      },
      "id": "UrWl_2bdNYYK"
    },
    {
      "cell_type": "code",
      "source": [
        "student_details={\"name\":\"john\",\"age\":18,\"grade\":\"A\"}\n",
        "print(student_details)\n",
        "print(student_details[\"grade\"])\n",
        "student_details[\"hobby\"]=\"reading\"\n",
        "print(student_details)\n",
        "student_details.pop(\"age\")\n",
        "print(student_details)\n"
      ],
      "metadata": {
        "colab": {
          "base_uri": "https://localhost:8080/"
        },
        "id": "uHW65TQ6NWEH",
        "outputId": "3841a08a-d670-4c36-e3f0-de72ee544c7b"
      },
      "id": "uHW65TQ6NWEH",
      "execution_count": null,
      "outputs": [
        {
          "output_type": "stream",
          "name": "stdout",
          "text": [
            "{'name': 'john', 'age': 18, 'grade': 'A'}\n",
            "A\n",
            "{'name': 'john', 'age': 18, 'grade': 'A', 'hobby': 'reading'}\n",
            "{'name': 'john', 'grade': 'A', 'hobby': 'reading'}\n"
          ]
        }
      ]
    },
    {
      "cell_type": "markdown",
      "source": [
        "5. Data Dictionary - Operations\n",
        "Question:\n",
        "You are given the following dictionary:\n",
        "marks = {\"Math\": 85, \"Science\": 90, \"English\": 78}\n",
        "a) Find the average marks across all subjects.\n",
        "b) Update the marks for Math to 88.\n",
        "c) Check if the key \"History\" exists in the dictionary."
      ],
      "metadata": {
        "id": "B0hZWINhQuOm"
      },
      "id": "B0hZWINhQuOm"
    },
    {
      "cell_type": "code",
      "source": [
        "marks = {\"Math\": 85, \"Science\": 90, \"English\": 78}\n",
        "avg=sum(marks.values())/len(marks)\n",
        "print(avg)\n",
        "marks[\"Math\"]=88\n",
        "print(marks)\n",
        "print(\"History\" in marks)"
      ],
      "metadata": {
        "colab": {
          "base_uri": "https://localhost:8080/"
        },
        "id": "-bFkq_BvNVpG",
        "outputId": "b6e253ab-4a4a-4259-e05a-42d1d72d7f15"
      },
      "id": "-bFkq_BvNVpG",
      "execution_count": null,
      "outputs": [
        {
          "output_type": "stream",
          "name": "stdout",
          "text": [
            "84.33333333333333\n",
            "{'Math': 88, 'Science': 90, 'English': 78}\n",
            "False\n"
          ]
        }
      ]
    },
    {
      "cell_type": "markdown",
      "source": [
        "6. Functions - Basics\n",
        "Question:\n",
        "Write a Python function named square that takes an integer as input and returns its square.\n",
        "Call the function with the value 7 and print the result."
      ],
      "metadata": {
        "id": "7CfBi9BeZ9OU"
      },
      "id": "7CfBi9BeZ9OU"
    },
    {
      "cell_type": "code",
      "source": [
        "def square(n):\n",
        "  sq_n=n*n\n",
        "  return sq_n\n",
        "n=int(input())\n",
        "sq_no=square(n)\n",
        "print(sq_no)"
      ],
      "metadata": {
        "colab": {
          "base_uri": "https://localhost:8080/"
        },
        "id": "r16e1cRQaCeW",
        "outputId": "ddc8e1d0-5426-4273-d4c0-799b43a17d1b"
      },
      "id": "r16e1cRQaCeW",
      "execution_count": null,
      "outputs": [
        {
          "output_type": "stream",
          "name": "stdout",
          "text": [
            "7\n",
            "49\n"
          ]
        }
      ]
    },
    {
      "cell_type": "markdown",
      "source": [],
      "metadata": {
        "id": "9aoHrge-bBnx"
      },
      "id": "9aoHrge-bBnx"
    },
    {
      "cell_type": "markdown",
      "source": [],
      "metadata": {
        "id": "8tD8V_FwdOVC"
      },
      "id": "8tD8V_FwdOVC"
    },
    {
      "cell_type": "markdown",
      "source": [
        "7. Functions - Default Arguments\n",
        "Question:\n",
        "Write a Python function named greet that takes two parameters:\n",
        "name (a string)\n",
        "message (a string with a default value of \"Welcome!\")\n",
        "Call the function twice:\n",
        "*Once by providing both name and message.\n",
        "*Once by providing only name."
      ],
      "metadata": {
        "id": "_8_2q82KbC2l"
      },
      "id": "_8_2q82KbC2l"
    },
    {
      "cell_type": "code",
      "source": [
        "def greet(name,message=\"welcome\"):\n",
        "  print(message,name)\n",
        "greet(\"gowtham\",\"hello\")\n",
        "greet(\"gowtham\")\n"
      ],
      "metadata": {
        "colab": {
          "base_uri": "https://localhost:8080/"
        },
        "id": "EuG8BT8GbCKX",
        "outputId": "57446995-7b86-499e-da1c-5b167b198921"
      },
      "id": "EuG8BT8GbCKX",
      "execution_count": null,
      "outputs": [
        {
          "output_type": "stream",
          "name": "stdout",
          "text": [
            "hello gowtham\n",
            "welcome gowtham\n"
          ]
        }
      ]
    },
    {
      "cell_type": "markdown",
      "source": [
        "8. Functions - Positional and Keyword Arguments\n",
        "Question:\n",
        "Write a Python function named student_info that accepts the following parameters:\n",
        "name (string)\n",
        "age (integer)\n",
        "grade (string, default value is \"A\")\n",
        "Call the function with:\n",
        "*Positional arguments only.\n",
        "*Keyword arguments only.\n",
        "Print the result in each case."
      ],
      "metadata": {
        "id": "Yl6rM94rcyp7"
      },
      "id": "Yl6rM94rcyp7"
    },
    {
      "cell_type": "code",
      "source": [
        "def student_info(name,age,grade=\"A\"):\n",
        "  return name,age,grade\n",
        "print(student_info(\"gowtham\",22,))\n",
        "print(student_info(name=\"rahul\",age=\"24\",grade=\"C\"))\n",
        "\n"
      ],
      "metadata": {
        "colab": {
          "base_uri": "https://localhost:8080/"
        },
        "id": "qTUJZvTpc5m5",
        "outputId": "9a21fdd1-b7d9-4e52-9244-224db2830a7a"
      },
      "id": "qTUJZvTpc5m5",
      "execution_count": null,
      "outputs": [
        {
          "output_type": "stream",
          "name": "stdout",
          "text": [
            "('gowtham', 22, 'A')\n",
            "('rahul', '24', 'C')\n"
          ]
        }
      ]
    },
    {
      "cell_type": "markdown",
      "source": [
        "9. Lists and Functions\n",
        "Question:\n",
        "Write a Python program with the following requirements:\n",
        "a) Create a list of numbers: [10, 20, 30, 40, 50].\n",
        "b) Define a function named double_values that takes a list as input and returns a new list with each value doubled.\n",
        "c) Pass the list to the function and print the returned list."
      ],
      "metadata": {
        "id": "Q5HEvw4gBQuS"
      },
      "id": "Q5HEvw4gBQuS"
    },
    {
      "cell_type": "code",
      "source": [
        "list_num=[10,20,30,40,50]\n",
        "def doubled_values(lst):\n",
        "  double=[]\n",
        "  for i in lst:\n",
        "    lst=i*2\n",
        "    double.append(lst)\n",
        "  return double\n",
        "print(doubled_values(list_num))"
      ],
      "metadata": {
        "id": "qwmmuT6cc8xT",
        "colab": {
          "base_uri": "https://localhost:8080/"
        },
        "outputId": "6707301e-8a87-470c-e006-91f7047492f9"
      },
      "id": "qwmmuT6cc8xT",
      "execution_count": null,
      "outputs": [
        {
          "output_type": "stream",
          "name": "stdout",
          "text": [
            "[20, 40, 60, 80, 100]\n"
          ]
        }
      ]
    },
    {
      "cell_type": "markdown",
      "source": [
        "10. Combining Data Dictionary and Functions\n",
        "Question:\n",
        "Create a dictionary named students to store the names and grades of three students:\n",
        "students = {\"Alice\": 85, \"Bob\": 78, \"Eve\": 92}\n",
        "a) Write a function named add_student that accepts a dictionary, a student name, and a grade, then adds the student to the dictionary.\n",
        "b) Write another function named average_grade that calculates the average grade of all students in the dictionary.\n",
        "Call the functions to:\n",
        "1.Add a new student (\"David\": 88).\n",
        "2.Calculate and print the average grade."
      ],
      "metadata": {
        "id": "CprKkkYUHYvQ"
      },
      "id": "CprKkkYUHYvQ"
    },
    {
      "cell_type": "code",
      "source": [
        "students = {\"Alice\": 85, \"Bob\": 78, \"Eve\": 92}\n",
        "def add_student(dict,name,grade):\n",
        "  dict[name]=grade\n",
        "  return dict\n",
        "print(add_student(students,\"David\",88))"
      ],
      "metadata": {
        "id": "v4swOPclHcmI",
        "colab": {
          "base_uri": "https://localhost:8080/"
        },
        "outputId": "22c8365c-dab0-4bfb-822b-17d17b63a62c"
      },
      "id": "v4swOPclHcmI",
      "execution_count": 1,
      "outputs": [
        {
          "output_type": "stream",
          "name": "stdout",
          "text": [
            "{'Alice': 85, 'Bob': 78, 'Eve': 92, 'David': 88}\n"
          ]
        }
      ]
    },
    {
      "cell_type": "markdown",
      "source": [],
      "metadata": {
        "id": "Pw0tmMQwc8bF"
      },
      "id": "Pw0tmMQwc8bF"
    }
  ],
  "metadata": {
    "kernelspec": {
      "display_name": "Python [conda env:base] *",
      "language": "python",
      "name": "conda-base-py"
    },
    "language_info": {
      "codemirror_mode": {
        "name": "ipython",
        "version": 3
      },
      "file_extension": ".py",
      "mimetype": "text/x-python",
      "name": "python",
      "nbconvert_exporter": "python",
      "pygments_lexer": "ipython3",
      "version": "3.12.7"
    },
    "colab": {
      "provenance": [],
      "include_colab_link": true
    }
  },
  "nbformat": 4,
  "nbformat_minor": 5
}